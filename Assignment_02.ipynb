{
  "cells": [
    {
      "cell_type": "markdown",
      "metadata": {
        "id": "mVwzTu_W6BaU"
      },
      "source": [
        "<a href=\"https://colab.research.google.com/github/mirsazzathossain/CSE317-Lab/blob/main/Lab_Assignment_02.ipynb\" target=\"_parent\"><img src=\"https://colab.research.google.com/assets/colab-badge.svg\" alt=\"Open In Colab\"/></a>"
      ]
    },
    {
      "cell_type": "markdown",
      "metadata": {
        "id": "kk11VSWt6Bac"
      },
      "source": [
        "#### **Find the following integral using the simpson's 1/3 rule**\n",
        "\n",
        "Simpson's 1/3 rule uses higher-order polynomials to approximate the integral of a function $f(x)$ over the interval $[a,b]$. For Example, if there is an extra point midway between $f(a)$ and $f(b)$, the three points can be connected with a parabola. The area under the parabola is an approximation of the integral of $f(x)$ over the interval $[a,b]$.\n",
        "\n",
        "<center>\n",
        "    <img src=\"https://github.com/mirsazzathossain/CSE317-Lab/blob/main/images/simpson.PNG?raw=1\" width=\"400\" />\n",
        "</center>\n",
        "\n",
        "If we are given values of $f(x)$ at 3 points as $(x_0, f(x_0))$, $(x_1, f(x_1))$, and $(x_2, f(x_2))$ then we can estimate $f(x)$ using the Lagrange polynomial of degree 2:\n",
        "\n",
        "$$\n",
        "\\begin{align*}\n",
        "f(x) &\\approx f(x_0) \\frac{(x-x_1)(x-x_2)}{(x_0-x_1)(x_0-x_2)} + f(x_1) \\frac{(x-x_0)(x-x_2)}{(x_1-x_0)(x_1-x_2)} + f(x_2) \\frac{(x-x_0)(x-x_1)}{(x_2-x_0)(x_2-x_1)}\n",
        "\\end{align*}\n",
        "$$\n",
        "\n",
        "Now, as the area under the estimated curve is an approximation of the integral of $f(x)$ over the interval $[a,b]$, we can write the integral as:\n",
        "\n",
        "$$\n",
        "\\begin{align*}\n",
        "I &= \\int_{a}^{b} f(x) dx \\\\\n",
        "&\\approx \\int_{a}^{b} \\left[f(x_0)\\frac{(x-x_1)(x-x_2)}{(x_0-x_1)(x_0-x_2)} + f(x_1) \\frac{(x-x_0)(x-x_2)}{(x_1-x_0)(x_1-x_2)} + f(x_2) \\frac{(x-x_0)(x-x_1)}{(x_2-x_0)(x_2-x_1)} \\right] dx\n",
        "\\end{align*}\n",
        "$$\n",
        "\n",
        "When $a = x_0$, $b = x_2$, $x_1 = \\frac{a+b}{2}$, and $h = \\frac{b-a}{2}$, we can simplify the integral to:\n",
        "\n",
        "$$\n",
        "\\begin{align*}\n",
        "    I &\\approx \\frac{h}{3} \\left[ f(x_0) + 4f(x_1) + f(x_2) \\right] \\\\\n",
        "    &= (b-a) \\frac{f(x_0) + 4f(x_1) + f(x_2)}{6}\n",
        "\\end{align*}\n",
        "$$\n",
        "\n",
        "We will use Simpson's 1/3 rule to approximate the integral of $f(x) = 0.2 + 25x - 200x^2 + 675x^3 - 900x^4 + 400x^5$ over the interval $[0, 0.8]$. Follow the steps below to approximate the integral using Simpson's 1/3 rule."
      ]
    },
    {
      "cell_type": "markdown",
      "metadata": {
        "id": "fsZGnSpm6Bae"
      },
      "source": [
        "##### **Step 1: Define the function**\n",
        "\n",
        "Define a function `f` that takes a single parameter `x` and returns the value of $f(x) = 0.2 + 25x - 200x^2 + 675x^3 - 900x^4 + 400x^5$ at `x`. Note that the function should be able to handle both scalar and vector inputs.\n"
      ]
    },
    {
      "cell_type": "code",
      "execution_count": 1,
      "metadata": {
        "id": "KwNkw7Ci6Bah"
      },
      "outputs": [],
      "source": [
        "# Write appropriate code\n",
        "def f(x):\n",
        "    return 0.2 + 25*x - 200*x**2 + 675*x**3 - 900*x**4 + 400*x**5"
      ]
    },
    {
      "cell_type": "markdown",
      "metadata": {
        "id": "3aZdedt66Baj"
      },
      "source": [
        "##### **Step 2: Define a function to approximate the function $f(x)$ using Lagrange polynomial**\n",
        "\n",
        "Define a function `lagrange` that takes four parameters `x0`, `x1`, `x2` and `x` and returns the value of the Lagrange polynomial of degree 2 at `x`. The function should be able to handle both scalar and vector inputs. Use the function `f` defined in Step 1 to evaluate the function at the given points."
      ]
    },
    {
      "cell_type": "code",
      "execution_count": 2,
      "metadata": {
        "id": "Ezq3RTET6Bak"
      },
      "outputs": [],
      "source": [
        "# write appropriate code\n",
        "def lagrange(x0, x1, x2, x):\n",
        "    L0_order = ((x - x1) * (x - x2)) / ((x0 - x1) * (x0 - x2))\n",
        "    L1_order = ((x - x0) * (x - x2)) / ((x1 - x0) * (x1 - x2))\n",
        "    L2_order = ((x - x0) * (x - x1)) / ((x2 - x0) * (x2 - x1))\n",
        "    return f(x0) * L0_order + f(x1) * L1_order + f(x2) * L2_order"
      ]
    },
    {
      "cell_type": "markdown",
      "metadata": {
        "id": "Ho0Mf1q_6Bal"
      },
      "source": [
        "##### **Step 3: Define the interval**\n",
        "Define the interval as a numpy array of two elements, where the first element is the lower bound and the second element is the upper bound. Name the array `interval`."
      ]
    },
    {
      "cell_type": "code",
      "execution_count": 4,
      "metadata": {
        "id": "lxHvn3tr6Bam"
      },
      "outputs": [],
      "source": [
        "# Write appropriate code\n",
        "import numpy as np\n",
        "\n",
        "interval = np.array([0, 0.8])"
      ]
    },
    {
      "cell_type": "markdown",
      "metadata": {
        "id": "mEsVcFyb6Bao"
      },
      "source": [
        "##### **Step 4: Plot the function and the approximated polynomial**\n",
        "\n",
        "Plot the function $f(x)$ and the approximated polynomial using the function `lagrange` defined in Step 2. Use the interval defined in Step 3 as the x-axis. Also, plot the points $(x_0, f(x_0))$, $(x_1, f(x_1))$, and $(x_2, f(x_2))$ on the same plot. Fill the area under the approximated polynomial using numpy's `fill_between` function."
      ]
    },
    {
      "cell_type": "code",
      "execution_count": 13,
      "metadata": {
        "id": "zRrg9cJV6Bap",
        "outputId": "5c69ec8f-68b0-4d7e-c949-5897569a164d",
        "colab": {
          "base_uri": "https://localhost:8080/",
          "height": 449
        }
      },
      "outputs": [
        {
          "output_type": "display_data",
          "data": {
            "text/plain": [
              "<Figure size 640x480 with 1 Axes>"
            ],
            "image/png": "[encoded data removed]"
          },
          "metadata": {}
        }
      ],
      "source": [
        "# Write appropriate code\n",
        "import matplotlib.pyplot as plt\n",
        "\n",
        "#Getting the points (x0, f(x0)), (x1, f(x1)), (x2, f(x2))\n",
        "x0 = interval[0]\n",
        "x1 = (interval[0] + interval[1]) / 2\n",
        "x2 = interval[1]\n",
        "y0 = f(x0)\n",
        "y1 = f(x1)\n",
        "y2 = f(x2)\n",
        "\n",
        "\n",
        "x = np.linspace(interval[0], interval[1], 100)\n",
        "y = f(x)\n",
        "y_approx = lagrange(x0, x1, x2, x)\n",
        "\n",
        "plt.plot(x, y, label='f(x)')\n",
        "plt.plot(x, y_approx, label='Approximation')\n",
        "plt.scatter([x0, x1, x2], [y0, y1, y2], color='purple', label='Points')\n",
        "plt.fill_between(x, y_approx, alpha=0.3)\n",
        "\n",
        "plt.xlabel('x')\n",
        "plt.ylabel('f(x)')\n",
        "\n",
        "plt.legend()\n",
        "plt.show()"
      ]
    },
    {
      "cell_type": "markdown",
      "metadata": {
        "id": "DdeD6yt96Bas"
      },
      "source": [
        "##### **Step 5: Define a function to approximate the integral using Simpson's 1/3 rule**\n",
        "\n",
        "Define a function `simpson` that takes a parameter `interval` and returns the approximate value of the integral of $f(x)$ over the interval `interval` using Simpson's 1/3 rule. You have to employ the following steps:\n",
        "\n",
        "*   Calculate the midpoint of the interval. Store the value in a variable named `midpoint`.\n",
        "*   Calculate the value of $f(x_0)$, $f(x_1)$, and $f(x_2)$, where $x_0 = a$, $x_1 = \\frac{a+b}{2} = midpoint$, and $x_2 = b$. Store the values in variables named `f0`, `f1`, and `f2` respectively.\n",
        "*   Calculate the approximate value of the integral using Simpson's 1/3 rule. Store the value in a variable named `I`.\n",
        "*   Return the value of `I`."
      ]
    },
    {
      "cell_type": "code",
      "execution_count": 17,
      "metadata": {
        "id": "HLt_xYUj6Bas"
      },
      "outputs": [],
      "source": [
        "def simpson(interval):\n",
        "    a = interval[0]\n",
        "    b = interval[1]\n",
        "\n",
        "    midpoint = (a + b) / 2\n",
        "\n",
        "    f0 = f(a)\n",
        "    f1 = f(midpoint)\n",
        "    f2 = f(b)\n",
        "\n",
        "    I = (b - a) * (f0 + 4*f1 + f2) / 6\n",
        "\n",
        "    return I"
      ]
    },
    {
      "cell_type": "markdown",
      "metadata": {
        "id": "FDATXhDR6Bat"
      },
      "source": [
        "##### **Step 6: Approximate the integral using Simpson's 1/3 rule**\n",
        "\n",
        "Call the function `simpson` with the interval `interval` as the parameter. Store the value returned by the function in a variable named `I`. Print the value of `I`. Then you should compute the integral analytically and find the absolute relative error between the two values. Print the absolute relative error."
      ]
    },
    {
      "cell_type": "code",
      "execution_count": 21,
      "metadata": {
        "id": "hJVG9uRO6Bat",
        "outputId": "486573c4-6747-459f-abb3-e3cd2d51d492",
        "colab": {
          "base_uri": "https://localhost:8080/"
        }
      },
      "outputs": [
        {
          "output_type": "stream",
          "name": "stdout",
          "text": [
            "Approximated Integral (Simpson's 1/3 rule): 1.3674666666666744\n",
            "Absolute Relative Error: 0.16644993498049152\n"
          ]
        }
      ],
      "source": [
        "# Write appropriate code\n",
        "\n",
        "def analytical_integral(x):\n",
        "    return 0.2*x + (25/2)*x**2 - (200/3)*x**3 + (675/4)*x**4 - (900/5)*x**5 + (400/6)*x**6\n",
        "\n",
        "analytical_solution = analytical_integral(interval[1]) - analytical_integral(interval[0])\n",
        "\n",
        "I = simpson(interval)\n",
        "print(\"Approximated Integral (Simpson's 1/3 rule):\", I)\n",
        "absolute_relative_error = abs((analytical_solution - I) / analytical_solution)\n",
        "\n",
        "print(\"Absolute Relative Error:\", absolute_relative_error)"
      ]
    }
  ],
  "metadata": {
    "kernelspec": {
      "display_name": "Python 3",
      "language": "python",
      "name": "python3"
    },
    "language_info": {
      "codemirror_mode": {
        "name": "ipython",
        "version": 3
      },
      "file_extension": ".py",
      "mimetype": "text/x-python",
      "name": "python",
      "nbconvert_exporter": "python",
      "pygments_lexer": "ipython3",
      "version": "3.10.6 (tags/v3.10.6:9c7b4bd, Aug  1 2022, 21:53:49) [MSC v.1932 64 bit (AMD64)]"
    },
    "orig_nbformat": 4,
    "vscode": {
      "interpreter": {
        "hash": "b148fc9bfa8b60132af830e32e1690e4e023b803e92912df15b823b90141dda6"
      }
    },
    "colab": {
      "provenance": []
    }
  },
  "nbformat": 4,
  "nbformat_minor": 0
}